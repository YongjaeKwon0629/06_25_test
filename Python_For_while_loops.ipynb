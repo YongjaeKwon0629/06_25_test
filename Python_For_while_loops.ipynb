{
  "nbformat": 4,
  "nbformat_minor": 0,
  "metadata": {
    "colab": {
      "provenance": [],
      "gpuType": "T4",
      "authorship_tag": "ABX9TyPwJeahm36o7uhWMsM38Yit",
      "include_colab_link": true
    },
    "kernelspec": {
      "name": "python3",
      "display_name": "Python 3"
    },
    "language_info": {
      "name": "python"
    },
    "accelerator": "GPU"
  },
  "cells": [
    {
      "cell_type": "markdown",
      "metadata": {
        "id": "view-in-github",
        "colab_type": "text"
      },
      "source": [
        "<a href=\"https://colab.research.google.com/github/YongjaeKwon0629/06_25_test/blob/main/Python_For_while_loops.ipynb\" target=\"_parent\"><img src=\"https://colab.research.google.com/assets/colab-badge.svg\" alt=\"Open In Colab\"/></a>"
      ]
    },
    {
      "cell_type": "markdown",
      "source": [
        "# **파이썬 For 루프**\n"
      ],
      "metadata": {
        "id": "yf29Q1nI4bL5"
      }
    },
    {
      "cell_type": "markdown",
      "source": [
        "**파이썬 For 루프**  \n",
        "for 루프 는 시퀀스(리스트, 튜플, 사전, 집합 또는 문자열)를 반복하는 데 사용됩니다.  \n",
        "\n",
        "이는 다른 프로그래밍 언어의 for 키워드 와 덜 비슷하며 , 다른 객체 지향 프로그래밍 언어에서 볼 수 있는 반복자 메서드와 더 비슷하게 작동합니다.  \n",
        "\n",
        "for 루프를 사용하면 목록, 튜플, 집합 등의 각 항목에 대해 한 번씩 명령문을 실행할 수 있습니다.  \n",
        "\n",
        "**예**  \n",
        "과일 목록에 있는 각 과일을 인쇄하세요:"
      ],
      "metadata": {
        "id": "IzLM6-iV4ePA"
      }
    },
    {
      "cell_type": "code",
      "execution_count": 1,
      "metadata": {
        "colab": {
          "base_uri": "https://localhost:8080/"
        },
        "id": "12r_hXBp3t8d",
        "outputId": "18e68b32-092b-4be8-ca38-b0fe0cbb63a6"
      },
      "outputs": [
        {
          "output_type": "stream",
          "name": "stdout",
          "text": [
            "apple\n",
            "banana\n",
            "cherry\n"
          ]
        }
      ],
      "source": [
        "fruits =[\"apple\", \"banana\", \"cherry\"]\n",
        "for x in fruits:\n",
        "  print(x)"
      ]
    },
    {
      "cell_type": "markdown",
      "source": [
        "참고: for 루프 는 인덱싱 변수를 미리 설정할 필요가 없습니다."
      ],
      "metadata": {
        "id": "4FXpB_Ir43uW"
      }
    },
    {
      "cell_type": "markdown",
      "source": [
        "**문자열 반복**  \n",
        "문자열도 반복 가능한 객체이며, 문자열에는 문자 시퀀스가 ​​포함됩니다.  \n",
        "\n",
        "**예**  \n",
        "\"banana\"라는 단어의 글자를 반복하세요:"
      ],
      "metadata": {
        "id": "sHxzOBNj5D00"
      }
    },
    {
      "cell_type": "code",
      "source": [
        "for x in \"banana\":\n",
        "  print(x)"
      ],
      "metadata": {
        "colab": {
          "base_uri": "https://localhost:8080/"
        },
        "id": "Eei4ZuM44zHr",
        "outputId": "7a917c0a-9126-42ca-faa0-55cc6a49dbe3"
      },
      "execution_count": 3,
      "outputs": [
        {
          "output_type": "stream",
          "name": "stdout",
          "text": [
            "b\n",
            "a\n",
            "n\n",
            "a\n",
            "n\n",
            "a\n"
          ]
        }
      ]
    },
    {
      "cell_type": "markdown",
      "source": [
        "**break 문**  \n",
        "\n",
        "break 문을 사용하면 모든 항목을 반복하기 전에 루프를 중지할 수 있습니다.  \n",
        "\n",
        "**예**  \n",
        "\"banana\"가 나오면 루프를 종료합니다."
      ],
      "metadata": {
        "id": "6b_3lJXd5Wjf"
      }
    },
    {
      "cell_type": "code",
      "source": [
        "fruits = [\"apple\",\"banana\",\"cherry\"]\n",
        "for x in fruits:\n",
        "  print(x)\n",
        "  if x == \"banana\":\n",
        "    break"
      ],
      "metadata": {
        "colab": {
          "base_uri": "https://localhost:8080/"
        },
        "id": "bQxcr_om5TRX",
        "outputId": "23e020fb-dea7-4528-8778-9af25af53ac8"
      },
      "execution_count": 5,
      "outputs": [
        {
          "output_type": "stream",
          "name": "stdout",
          "text": [
            "apple\n",
            "banana\n"
          ]
        }
      ]
    },
    {
      "cell_type": "markdown",
      "source": [
        "**예**  \n",
        "\"banana\"가 나올 때 루프를 종료하지만 이번에는 break가 print보다 먼저 나옵니다."
      ],
      "metadata": {
        "id": "rteS-vDI5xTl"
      }
    },
    {
      "cell_type": "code",
      "source": [
        "fruits = [\"apple\",\"banana\",\"cherry\"]\n",
        "for x in fruits:\n",
        "  if x == \"banana\":\n",
        "    break\n",
        "  print(x)"
      ],
      "metadata": {
        "colab": {
          "base_uri": "https://localhost:8080/"
        },
        "id": "IFYHseVA5uJo",
        "outputId": "b154a5bb-f12a-4898-8cdc-4c06431ad79f"
      },
      "execution_count": 6,
      "outputs": [
        {
          "output_type": "stream",
          "name": "stdout",
          "text": [
            "apple\n"
          ]
        }
      ]
    },
    {
      "cell_type": "markdown",
      "source": [
        "**continue 문**  \n",
        "continue 문을 사용하면 루프의 현재 반복을 중지하고 다음 반복을 계속할 수 있습니다.  \n",
        "**예**  \n",
        "바나나를 인쇄하지 마세요:"
      ],
      "metadata": {
        "id": "HSHEpFbh6MLi"
      }
    },
    {
      "cell_type": "code",
      "source": [
        "fruits=[\"apple\",\"banana\",\"cherry\"]\n",
        "for x in fruits:\n",
        "  if x == \"banana\":\n",
        "    continue\n",
        "  print(x)"
      ],
      "metadata": {
        "colab": {
          "base_uri": "https://localhost:8080/"
        },
        "id": "qv9SXQ_W6dYF",
        "outputId": "170cb016-ea0f-4ae2-ede2-00bfced8c2b8"
      },
      "execution_count": 7,
      "outputs": [
        {
          "output_type": "stream",
          "name": "stdout",
          "text": [
            "apple\n",
            "cherry\n"
          ]
        }
      ]
    },
    {
      "cell_type": "markdown",
      "source": [
        "**range() 함수**  \n",
        "지정된 횟수만큼 코드 세트를 반복하려면 range() 람수를 사용할 수 있습니다.  \n",
        "\n",
        "range()함수는 기본적으로 0부터 시작하여 1씩 증가(기본값)하고 지정된 숫자에서 끝나는 숫자 시퀀스를 반환합니다.  \n",
        "  \n",
        "**예**  \n",
        "range()함수를 사용합니다.  "
      ],
      "metadata": {
        "id": "tFvde0sb6req"
      }
    },
    {
      "cell_type": "code",
      "source": [
        "for x in range(6):\n",
        "  print(x)"
      ],
      "metadata": {
        "colab": {
          "base_uri": "https://localhost:8080/"
        },
        "id": "xbYVWbOq7KQ_",
        "outputId": "7b554a5f-ea4a-4cb2-d80b-13c812b3eaf1"
      },
      "execution_count": 8,
      "outputs": [
        {
          "output_type": "stream",
          "name": "stdout",
          "text": [
            "0\n",
            "1\n",
            "2\n",
            "3\n",
            "4\n",
            "5\n"
          ]
        }
      ]
    },
    {
      "cell_type": "markdown",
      "source": [
        "참고: range(6)은 0~6의 값이 아니라 0~5라는 점에 주의하세요"
      ],
      "metadata": {
        "id": "8JoXpMXI7W1p"
      }
    },
    {
      "cell_type": "markdown",
      "source": [
        "range() 함수는 기본적으로 시작 값으로 0을 사용하지만 매개변수를 추가하여 시작 값을 지정할 수 있습니다: range(2, 6)은 2에서 6까지의 값을 의미합니다.  \n",
        "\n",
        "**예**  \n",
        "  \n",
        "시작 매개변수 사용:"
      ],
      "metadata": {
        "id": "3a4M_U_O7hCI"
      }
    },
    {
      "cell_type": "code",
      "source": [
        "for x in range(2, 6):\n",
        "  print(x)"
      ],
      "metadata": {
        "colab": {
          "base_uri": "https://localhost:8080/"
        },
        "id": "YViGvhqS7P3x",
        "outputId": "8c9410cd-88a0-4424-c9f8-16fb97a837e3"
      },
      "execution_count": 9,
      "outputs": [
        {
          "output_type": "stream",
          "name": "stdout",
          "text": [
            "2\n",
            "3\n",
            "4\n",
            "5\n"
          ]
        }
      ]
    },
    {
      "cell_type": "markdown",
      "source": [
        "range () 함수는 기본적으로 시퀀스를 1씩 증가시키지만 세 번째 매개변수인 range(2, 30, 3 )을 추가하여 증가 값을 지정할 수 있습니다.  \n",
        "  \n",
        "**예**  \n",
        "시퀀스를 3씩 증가시킵니다(기본값은 1):"
      ],
      "metadata": {
        "id": "rPqpTSzs8Sls"
      }
    },
    {
      "cell_type": "code",
      "source": [
        "for x in range(2, 30, 3):\n",
        "  print(x)"
      ],
      "metadata": {
        "colab": {
          "base_uri": "https://localhost:8080/"
        },
        "id": "cPAxIJVY78fF",
        "outputId": "7d422771-97b9-4913-c1fa-cdd4fcd65587"
      },
      "execution_count": 10,
      "outputs": [
        {
          "output_type": "stream",
          "name": "stdout",
          "text": [
            "2\n",
            "5\n",
            "8\n",
            "11\n",
            "14\n",
            "17\n",
            "20\n",
            "23\n",
            "26\n",
            "29\n"
          ]
        }
      ]
    },
    {
      "cell_type": "markdown",
      "source": [
        "**`For 루프의 Else `**  \n",
        "else루프 의 키워드는 루프 for가 완료될 때 실행될 코드 블록을 지정합니다.  \n",
        "  \n",
        "**예**  \n",
        "0부터 5까지의 모든 숫자를 출력하고, 루프가 끝나면 메시지를 출력합니다."
      ],
      "metadata": {
        "id": "xK3jOCim8b3_"
      }
    },
    {
      "cell_type": "code",
      "source": [
        "for x in range(6):\n",
        "  print(x)\n",
        "else:\n",
        "  print(\"Finally finished!\")"
      ],
      "metadata": {
        "colab": {
          "base_uri": "https://localhost:8080/"
        },
        "id": "W2QXWtiT8bXC",
        "outputId": "75314b64-6773-42a8-87a2-2adca9a6057e"
      },
      "execution_count": 11,
      "outputs": [
        {
          "output_type": "stream",
          "name": "stdout",
          "text": [
            "0\n",
            "1\n",
            "2\n",
            "3\n",
            "4\n",
            "5\n",
            "Finally finished!\n"
          ]
        }
      ]
    },
    {
      "cell_type": "markdown",
      "source": [
        "**참고 :**루프가 명령문에 의해 중단되면 블록 else은 실행되지 않습니다 break."
      ],
      "metadata": {
        "id": "S87lFuCj8zis"
      }
    },
    {
      "cell_type": "markdown",
      "source": [
        "**예**  \n",
        "3이 되면 루프를 끊고 블록 x에서 무슨 일이 일어나는지 살펴보세요 else."
      ],
      "metadata": {
        "id": "GW526jMY9CvY"
      }
    },
    {
      "cell_type": "code",
      "source": [
        "for x in range(6):\n",
        "  if x == 3: break\n",
        "  print(x)\n",
        "else:\n",
        "  print(\"Finally finished!\")"
      ],
      "metadata": {
        "colab": {
          "base_uri": "https://localhost:8080/"
        },
        "id": "CNejK6IO85ub",
        "outputId": "ba72cddb-2a03-44fd-b0e7-2ddbd693eeab"
      },
      "execution_count": 12,
      "outputs": [
        {
          "output_type": "stream",
          "name": "stdout",
          "text": [
            "0\n",
            "1\n",
            "2\n"
          ]
        }
      ]
    },
    {
      "cell_type": "markdown",
      "source": [
        "**중첩 루프**  \n",
        "중첩 루프는 루프 안에 있는 루프입니다.  \n",
        "\n",
        "\"내부 루프\"는 \"외부 루프\"의 각 반복마다 한 번씩 실행됩니다.  \n",
        "  \n",
        "\n",
        "**예**  \n",
        "각 과일에 대한 형용사를 각각 출력하세요:"
      ],
      "metadata": {
        "id": "iYg9zmVn9JGE"
      }
    },
    {
      "cell_type": "code",
      "source": [
        "adj = [\"red\", \"big\", \"tasty\"]\n",
        "fruits = [\"apple\", \"banana\", \"cherry\"]\n",
        "\n",
        "for x in adj:\n",
        "  for y in fruits:\n",
        "    print(x, y)"
      ],
      "metadata": {
        "colab": {
          "base_uri": "https://localhost:8080/"
        },
        "id": "QRFIMxBd9jNl",
        "outputId": "b289e4d7-e4ad-4f8e-d14c-08f4f5c96bdf"
      },
      "execution_count": 13,
      "outputs": [
        {
          "output_type": "stream",
          "name": "stdout",
          "text": [
            "red apple\n",
            "red banana\n",
            "red cherry\n",
            "big apple\n",
            "big banana\n",
            "big cherry\n",
            "tasty apple\n",
            "tasty banana\n",
            "tasty cherry\n"
          ]
        }
      ]
    },
    {
      "cell_type": "markdown",
      "source": [
        "**패스 진술**  \n",
        "  \n",
        "for루프는 비어 있을 수 없지만, 어떤 이유로든 for내용이 없는 루프가 있는 경우 pass오류를 방지하기 위해 명령문을 넣으세요.  \n",
        "\n",
        "**예**  \n",
        "  \n",
        "  "
      ],
      "metadata": {
        "id": "UFs5_8cG9pJ9"
      }
    },
    {
      "cell_type": "code",
      "source": [
        "for x in [0, 1, 2]:\n",
        "  pass"
      ],
      "metadata": {
        "id": "brYZwJm29zCe"
      },
      "execution_count": 14,
      "outputs": []
    },
    {
      "cell_type": "markdown",
      "source": [
        "# **파이썬 While 루프**  \n",
        "  \n",
        "**파이썬 루프**  \n",
        "\n",
        "Python에는 두 개의 기본 루프 명령이 있습니다.  \n",
        "\n",
        "while 루프  \n",
        "for 루프  \n",
        "\n",
        "**while 루프**  \n",
        "while 루프를 사용하면 조건이 참인 동안 일련의 명령문을 실행할 수 있습니다.  \n",
        "\n",
        "**예**  \n",
        "i가 6보다 작은 경우 i를 출력합니다.  \n"
      ],
      "metadata": {
        "id": "z_34raMr-idy"
      }
    },
    {
      "cell_type": "code",
      "source": [
        "i = 1\n",
        "while i < 6:\n",
        "  print(i)\n",
        "  i += 1"
      ],
      "metadata": {
        "colab": {
          "base_uri": "https://localhost:8080/"
        },
        "id": "q9Qj9pgd-7wd",
        "outputId": "13974d98-43a8-48bd-864b-a14c482aa3ec"
      },
      "execution_count": 15,
      "outputs": [
        {
          "output_type": "stream",
          "name": "stdout",
          "text": [
            "1\n",
            "2\n",
            "3\n",
            "4\n",
            "5\n"
          ]
        }
      ]
    },
    {
      "cell_type": "markdown",
      "source": [
        "**참고:** i를 증가시키는 것을 잊지 마세요. 그렇지 않으면 루프가 영원히 계속됩니다.  \n",
        "  \n",
        "while 루프 는 관련 변수가 준비되어야 합니다. 이 예에서는 인덱싱 변수 i 를 정의하고 1로 설정해야 합니다."
      ],
      "metadata": {
        "id": "n9IcDLtg-91B"
      }
    },
    {
      "cell_type": "markdown",
      "source": [
        "**break 문**  \n",
        "break 문을 사용하면 while 조건이 참이더라도 루프를 중지할 수 있습니다.  \n",
        "\n",
        "**예**  \n",
        "i가 3일 때 루프를 종료합니다.  "
      ],
      "metadata": {
        "id": "d0u6si3M_EaB"
      }
    },
    {
      "cell_type": "code",
      "source": [
        "i = 1\n",
        "while i < 6:\n",
        "  print(i)\n",
        "  if i == 3:\n",
        "    break\n",
        "  i += 1"
      ],
      "metadata": {
        "colab": {
          "base_uri": "https://localhost:8080/"
        },
        "id": "BfnC4pbF-9PB",
        "outputId": "8635f703-377f-4432-e498-192730d0d78d"
      },
      "execution_count": 16,
      "outputs": [
        {
          "output_type": "stream",
          "name": "stdout",
          "text": [
            "1\n",
            "2\n",
            "3\n"
          ]
        }
      ]
    },
    {
      "cell_type": "markdown",
      "source": [
        "**continue 문**  \n",
        "continue 문을 사용하면 현재 반복을 중지하고 다음 반복을 계속할 수 있습니다.  \n",
        "**예**  \n",
        "i가 3이면 다음 반복을 계속합니다."
      ],
      "metadata": {
        "id": "yEWX-aLj_Txi"
      }
    },
    {
      "cell_type": "code",
      "source": [
        "i = 0\n",
        "while i < 6:\n",
        "  i += 1\n",
        "  if i == 3:\n",
        "    continue\n",
        "  print(i)"
      ],
      "metadata": {
        "colab": {
          "base_uri": "https://localhost:8080/"
        },
        "id": "-b7i7KRv_TG8",
        "outputId": "c72b24f9-be6c-41be-d523-f602905dee2b"
      },
      "execution_count": 17,
      "outputs": [
        {
          "output_type": "stream",
          "name": "stdout",
          "text": [
            "1\n",
            "2\n",
            "4\n",
            "5\n",
            "6\n"
          ]
        }
      ]
    },
    {
      "cell_type": "markdown",
      "source": [
        "**else 문**  \n",
        "else 문을 사용하면 조건이 더 이상 참이 아닐 때 코드 블록을 한 번 실행할 수 있습니다.  \n",
        "**예**  \n",
        "조건이 거짓이면 메시지를 출력합니다."
      ],
      "metadata": {
        "id": "ENkCrVWz_Sor"
      }
    },
    {
      "cell_type": "code",
      "source": [
        "i = 1\n",
        "while i < 6:\n",
        "  print(i)\n",
        "  i += 1\n",
        "else:\n",
        "  print(\"i is no longer less than 6\")"
      ],
      "metadata": {
        "colab": {
          "base_uri": "https://localhost:8080/"
        },
        "id": "xjF9-YO7_mru",
        "outputId": "16d7bcbf-8223-4335-f999-2b3fa405b34e"
      },
      "execution_count": 18,
      "outputs": [
        {
          "output_type": "stream",
          "name": "stdout",
          "text": [
            "1\n",
            "2\n",
            "3\n",
            "4\n",
            "5\n",
            "i is no longer less than 6\n"
          ]
        }
      ]
    },
    {
      "cell_type": "markdown",
      "source": [
        "# **for문과 while문을 이용한 자율주행 코드**"
      ],
      "metadata": {
        "id": "WSdZGmZ2AJbk"
      }
    },
    {
      "cell_type": "markdown",
      "source": [
        "**✅ 1. 장애물 탐지 및 회피 시뮬레이션**"
      ],
      "metadata": {
        "id": "mtrcZK_GASQR"
      }
    },
    {
      "cell_type": "code",
      "source": [
        "distances = [15, 8, 20, 5, 12]  # 거리 데이터\n",
        "\n",
        "for distance in distances:\n",
        "    while distance < 10:\n",
        "        print(f\"거리 {distance}m → 장애물 감지: 회피 시도\")\n",
        "        distance += 5  # 회피 후 거리 증가 (회피 성공 가정)\n",
        "    print(f\"거리 {distance}m → 이동 가능\")"
      ],
      "metadata": {
        "colab": {
          "base_uri": "https://localhost:8080/"
        },
        "id": "q5o9HJDSAToR",
        "outputId": "7a5be3cb-b49a-4d5b-9953-6f3b66d0f7a7"
      },
      "execution_count": 19,
      "outputs": [
        {
          "output_type": "stream",
          "name": "stdout",
          "text": [
            "거리 15m → 이동 가능\n",
            "거리 8m → 장애물 감지: 회피 시도\n",
            "거리 13m → 이동 가능\n",
            "거리 20m → 이동 가능\n",
            "거리 5m → 장애물 감지: 회피 시도\n",
            "거리 10m → 이동 가능\n",
            "거리 12m → 이동 가능\n"
          ]
        }
      ]
    },
    {
      "cell_type": "markdown",
      "source": [
        "**✅2. 차선 유지 반복 조정**"
      ],
      "metadata": {
        "id": "bN0KYx7TAVNo"
      }
    },
    {
      "cell_type": "code",
      "source": [
        "positions = [2, -3, 0, 1, -1]  # 초기 위치 데이터\n",
        "\n",
        "for position in positions:\n",
        "    while position != 0:\n",
        "        if position > 0:\n",
        "            print(\"→ 오른쪽 이탈 → 왼쪽으로 조향\")\n",
        "            position -= 1\n",
        "        elif position < 0:\n",
        "            print(\"← 왼쪽 이탈 → 오른쪽으로 조향\")\n",
        "            position += 1\n",
        "    print(\"차선 중앙 유지 완료\")"
      ],
      "metadata": {
        "colab": {
          "base_uri": "https://localhost:8080/"
        },
        "id": "mxiQ_iEUAWQb",
        "outputId": "a55fc9ec-09b5-40ce-ca6f-451577e2ca17"
      },
      "execution_count": 20,
      "outputs": [
        {
          "output_type": "stream",
          "name": "stdout",
          "text": [
            "→ 오른쪽 이탈 → 왼쪽으로 조향\n",
            "→ 오른쪽 이탈 → 왼쪽으로 조향\n",
            "차선 중앙 유지 완료\n",
            "← 왼쪽 이탈 → 오른쪽으로 조향\n",
            "← 왼쪽 이탈 → 오른쪽으로 조향\n",
            "← 왼쪽 이탈 → 오른쪽으로 조향\n",
            "차선 중앙 유지 완료\n",
            "차선 중앙 유지 완료\n",
            "→ 오른쪽 이탈 → 왼쪽으로 조향\n",
            "차선 중앙 유지 완료\n",
            "← 왼쪽 이탈 → 오른쪽으로 조향\n",
            "차선 중앙 유지 완료\n"
          ]
        }
      ]
    },
    {
      "cell_type": "markdown",
      "source": [
        "**✅ 3. 속도 제어 및 유지**"
      ],
      "metadata": {
        "id": "SPRNlfbpAZjV"
      }
    },
    {
      "cell_type": "code",
      "source": [
        "current_speeds = [40, 60, 50]  # 현재 속도 데이터\n",
        "speed_limit = 50\n",
        "\n",
        "for speed in current_speeds:\n",
        "    while speed != speed_limit:\n",
        "        if speed > speed_limit:\n",
        "            print(f\"속도 {speed} → 감속\")\n",
        "            speed -= 1\n",
        "        elif speed < speed_limit:\n",
        "            print(f\"속도 {speed} → 가속\")\n",
        "            speed += 1\n",
        "    print(f\"속도 {speed} → 적정 속도 유지 완료\")"
      ],
      "metadata": {
        "colab": {
          "base_uri": "https://localhost:8080/"
        },
        "id": "jvMA0f-HAe5l",
        "outputId": "654cb3c3-6ba8-420b-ea0c-174d1f1a4334"
      },
      "execution_count": 21,
      "outputs": [
        {
          "output_type": "stream",
          "name": "stdout",
          "text": [
            "속도 40 → 가속\n",
            "속도 41 → 가속\n",
            "속도 42 → 가속\n",
            "속도 43 → 가속\n",
            "속도 44 → 가속\n",
            "속도 45 → 가속\n",
            "속도 46 → 가속\n",
            "속도 47 → 가속\n",
            "속도 48 → 가속\n",
            "속도 49 → 가속\n",
            "속도 50 → 적정 속도 유지 완료\n",
            "속도 60 → 감속\n",
            "속도 59 → 감속\n",
            "속도 58 → 감속\n",
            "속도 57 → 감속\n",
            "속도 56 → 감속\n",
            "속도 55 → 감속\n",
            "속도 54 → 감속\n",
            "속도 53 → 감속\n",
            "속도 52 → 감속\n",
            "속도 51 → 감속\n",
            "속도 50 → 적정 속도 유지 완료\n",
            "속도 50 → 적정 속도 유지 완료\n"
          ]
        }
      ]
    },
    {
      "cell_type": "markdown",
      "source": [
        "**✅ 4. 신호등 상태 처리 루프**"
      ],
      "metadata": {
        "id": "Ln80xNwRAgpV"
      }
    },
    {
      "cell_type": "code",
      "source": [
        "traffic_lights = [\"green\", \"yellow\", \"red\"]  # 신호등 상태 목록\n",
        "\n",
        "for light in traffic_lights:\n",
        "    count = 0\n",
        "    while count < 2:  # 각 신호당 두 번 반복\n",
        "        if light == \"red\":\n",
        "            print(\"신호: 빨간불 → 정지\")\n",
        "        elif light == \"yellow\":\n",
        "            print(\"신호: 노란불 → 감속\")\n",
        "        elif light == \"green\":\n",
        "            print(\"신호: 초록불 → 출발\")\n",
        "        count += 1"
      ],
      "metadata": {
        "colab": {
          "base_uri": "https://localhost:8080/"
        },
        "id": "XtTLiOwgAiOM",
        "outputId": "c3b95b98-1f45-417f-ba47-0b9b60277f7e"
      },
      "execution_count": 22,
      "outputs": [
        {
          "output_type": "stream",
          "name": "stdout",
          "text": [
            "신호: 초록불 → 출발\n",
            "신호: 초록불 → 출발\n",
            "신호: 노란불 → 감속\n",
            "신호: 노란불 → 감속\n",
            "신호: 빨간불 → 정지\n",
            "신호: 빨간불 → 정지\n"
          ]
        }
      ]
    },
    {
      "cell_type": "markdown",
      "source": [
        "**✅ 5. 충돌 위험 탐지 및 속도 조절**"
      ],
      "metadata": {
        "id": "KLwTyOPAAkM4"
      }
    },
    {
      "cell_type": "code",
      "source": [
        "front_distances = [20, 10, 30]\n",
        "speeds = [12, 8, 15]\n",
        "\n",
        "for i in range(len(front_distances)):\n",
        "    front_distance = front_distances[i]\n",
        "    speed = speeds[i]\n",
        "    stopping_distance = speed * 2\n",
        "\n",
        "    while front_distance < stopping_distance:\n",
        "        print(f\"현재 거리 {front_distance}m → 충돌 위험! 감속\")\n",
        "        speed -= 1  # 감속\n",
        "        stopping_distance = speed * 2\n",
        "    print(f\"현재 거리 {front_distance}m → 안전 주행 가능 (속도 {speed})\")"
      ],
      "metadata": {
        "colab": {
          "base_uri": "https://localhost:8080/"
        },
        "id": "-wTzuI4EAmMI",
        "outputId": "b7ebfbb3-1334-42e6-8d79-d3d039ee6e91"
      },
      "execution_count": 23,
      "outputs": [
        {
          "output_type": "stream",
          "name": "stdout",
          "text": [
            "현재 거리 20m → 충돌 위험! 감속\n",
            "현재 거리 20m → 충돌 위험! 감속\n",
            "현재 거리 20m → 안전 주행 가능 (속도 10)\n",
            "현재 거리 10m → 충돌 위험! 감속\n",
            "현재 거리 10m → 충돌 위험! 감속\n",
            "현재 거리 10m → 충돌 위험! 감속\n",
            "현재 거리 10m → 안전 주행 가능 (속도 5)\n",
            "현재 거리 30m → 안전 주행 가능 (속도 15)\n"
          ]
        }
      ]
    }
  ]
}