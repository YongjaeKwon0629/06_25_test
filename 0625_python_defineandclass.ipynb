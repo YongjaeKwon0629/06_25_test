{
  "nbformat": 4,
  "nbformat_minor": 0,
  "metadata": {
    "colab": {
      "provenance": [],
      "gpuType": "T4",
      "authorship_tag": "ABX9TyO/E2EtHNCQfWXHBIPcElA7",
      "include_colab_link": true
    },
    "kernelspec": {
      "name": "python3",
      "display_name": "Python 3"
    },
    "language_info": {
      "name": "python"
    },
    "accelerator": "GPU"
  },
  "cells": [
    {
      "cell_type": "markdown",
      "metadata": {
        "id": "view-in-github",
        "colab_type": "text"
      },
      "source": [
        "<a href=\"https://colab.research.google.com/github/YongjaeKwon0629/06_25_test/blob/main/0625_python_defineandclass.ipynb\" target=\"_parent\"><img src=\"https://colab.research.google.com/assets/colab-badge.svg\" alt=\"Open In Colab\"/></a>"
      ]
    },
    {
      "cell_type": "markdown",
      "source": [
        "함수 호출  \n",
        "함수를 호출하려면 함수 이름 뒤에 괄호를 사용합니다."
      ],
      "metadata": {
        "id": "YSzpJWrZi4QZ"
      }
    },
    {
      "cell_type": "code",
      "execution_count": 6,
      "metadata": {
        "colab": {
          "base_uri": "https://localhost:8080/"
        },
        "id": "nFVdnWwCfMYP",
        "outputId": "1f3fba88-e730-4df5-eab8-f783dfff4f80"
      },
      "outputs": [
        {
          "output_type": "stream",
          "name": "stdout",
          "text": [
            "Hello from a function\n"
          ]
        }
      ],
      "source": [
        "def my_function():\n",
        "    print(\"Hello from a function\")\n",
        "\n",
        "my_function()"
      ]
    },
    {
      "cell_type": "markdown",
      "source": [
        "인수\n",
        "정보는 인수로 함수에 전달될 수 있습니다.\n",
        "\n",
        "인수는 함수 이름 뒤 괄호 안에 지정합니다. 인수는 원하는 만큼 추가할 수 있으며, 쉼표로 구분하면 됩니다.\n",
        "\n",
        "다음 예제는 인수가 하나인 함수(fname)를 사용합니다. 함수가 호출될 때 이름을 전달하는데, 이 이름은 함수 내부에서 전체 이름을 출력하는 데 사용됩니다."
      ],
      "metadata": {
        "id": "AFz9FpibipeF"
      }
    },
    {
      "cell_type": "code",
      "source": [
        "def my_function(fname):\n",
        "    print(fname + \" Refsnes\")\n",
        "\n",
        "my_function(\"Emil\")\n",
        "my_function(\"Tobias\")\n",
        "my_function(\"Linus\")"
      ],
      "metadata": {
        "colab": {
          "base_uri": "https://localhost:8080/"
        },
        "id": "cxzhfsOXiJAf",
        "outputId": "f5df4335-6d61-4dc7-9c5b-65a1a778dbf5"
      },
      "execution_count": 7,
      "outputs": [
        {
          "output_type": "stream",
          "name": "stdout",
          "text": [
            "Emil Refsnes\n",
            "Tobias Refsnes\n",
            "Linus Refsnes\n"
          ]
        }
      ]
    },
    {
      "cell_type": "markdown",
      "source": [
        "매개변수 또는 인수?  \n",
        "\n",
        "매개변수 와 인수라는 용어는 함수에 전달되는 정보라는 동일한 의미로 사용될 수 있습니다.  \n",
        "\n",
        "함수의 관점에서:\n",
        "\n",
        "매개변수는 함수 정의에서 괄호 안에 나열된 변수입니다.\n",
        "\n",
        "인수는 함수가 호출될 때 전달되는 값입니다."
      ],
      "metadata": {
        "id": "GfCInXyji_8L"
      }
    },
    {
      "cell_type": "markdown",
      "source": [
        "인수의 수  \n",
        "기본적으로 함수는 올바른 개수의 인수로 호출해야 합니다. 즉, 함수가 두 개의 인수를 기대한다면, 두 개 이상도, 그 이하도 아닌 두 개의 인수로 함수를 호출해야 합니다.  \n",
        "이 함수는 2개의 인수를 기대하고 2개의 인수를 받습니다."
      ],
      "metadata": {
        "id": "ti6uGEm6j5ui"
      }
    },
    {
      "cell_type": "code",
      "source": [
        "def my_function(fname, lname):\n",
        "  print(fname + \" \" + lname)\n",
        "\n",
        "my_function(\"Emil\", \"Refsnes\")"
      ],
      "metadata": {
        "colab": {
          "base_uri": "https://localhost:8080/"
        },
        "id": "CLedM_ufikOH",
        "outputId": "f81ce142-cb9f-41a5-95f3-01a8c9316f9f"
      },
      "execution_count": 8,
      "outputs": [
        {
          "output_type": "stream",
          "name": "stdout",
          "text": [
            "Emil Refsnes\n"
          ]
        }
      ]
    },
    {
      "cell_type": "markdown",
      "source": [
        "임의의 인수, *args  \n",
        "함수에 전달될 인수의 개수가 얼마인지 모르는 경우, *함수 정의에서 매개변수 이름 앞에 를 추가합니다.  \n",
        "  \n",
        "이렇게 하면 함수는 인수 튜플을 받고 그에 따라 항목에 액세스할 수 있습니다."
      ],
      "metadata": {
        "id": "HL9En9t2kH9v"
      }
    },
    {
      "cell_type": "markdown",
      "source": [
        "인수의 개수를 알 수 없는 경우 *매개변수 이름 앞에 를 추가합니다."
      ],
      "metadata": {
        "id": "b3KKMzINkUV0"
      }
    },
    {
      "cell_type": "code",
      "source": [
        "def my_function(*kids):\n",
        "  print(\"The youngest child is \" + kids[2])\n",
        "\n",
        "my_function(\"Emil\", \"Tobias\", \"Linus\")"
      ],
      "metadata": {
        "colab": {
          "base_uri": "https://localhost:8080/"
        },
        "id": "pMoExKIGkKxC",
        "outputId": "4ac887df-94c2-4aed-fdcc-3996b2acf4c1"
      },
      "execution_count": 9,
      "outputs": [
        {
          "output_type": "stream",
          "name": "stdout",
          "text": [
            "The youngest child is Linus\n"
          ]
        }
      ]
    },
    {
      "cell_type": "markdown",
      "source": [
        "키워드 인수  \n",
        "키 = 값 구문을 사용하여 인수를 보낼 수도 있습니다 .  \n",
        "  \n",
        "이렇게 하면 인수의 순서는 중요하지 않습니다."
      ],
      "metadata": {
        "id": "LEh-4Gv-kYsJ"
      }
    },
    {
      "cell_type": "code",
      "source": [
        "def my_function(child3, child2, child1):\n",
        "  print(\"The youngest child is \" + child3)\n",
        "\n",
        "my_function(child1 = \"Emil\", child2=\"Tobias\", child3=\"Linus\")"
      ],
      "metadata": {
        "colab": {
          "base_uri": "https://localhost:8080/"
        },
        "id": "e4a3r6DLkXtN",
        "outputId": "f38238e5-25b1-4b15-9232-a42536ccd4e0"
      },
      "execution_count": 12,
      "outputs": [
        {
          "output_type": "stream",
          "name": "stdout",
          "text": [
            "The youngest child is Linus\n"
          ]
        }
      ]
    },
    {
      "cell_type": "markdown",
      "source": [
        "임의의 키워드 인수, **kwargs  \n",
        "함수에 전달될 키워드 인수의 개수가 얼마인지 모르는 경우, **함수 정의에서 매개변수 이름 앞에 별표 두 개를 추가합니다.  \n",
        "\n",
        "이렇게 하면 함수는 인수 사전을 받고 그에 따라 항목에 액세스할 수 있습니다.  \n",
        "키워드 인수의 개수를 알 수 없는 경우 **매개변수 이름 앞에 double을 추가합니다."
      ],
      "metadata": {
        "id": "XkRDmVV8k8tx"
      }
    },
    {
      "cell_type": "code",
      "source": [
        "def my_function(**kid):\n",
        "  print(\"His last name is \"+kid[\"lname\"])\n",
        "\n",
        "my_function(fname = \"Tobias\", lname = \"Refsnes\")"
      ],
      "metadata": {
        "colab": {
          "base_uri": "https://localhost:8080/"
        },
        "id": "eHBE7kF7k1bo",
        "outputId": "c1b0a1c9-02e0-4c46-992b-cc94496b47cd"
      },
      "execution_count": 13,
      "outputs": [
        {
          "output_type": "stream",
          "name": "stdout",
          "text": [
            "His last name is Refsnes\n"
          ]
        }
      ]
    },
    {
      "cell_type": "markdown",
      "source": [
        "기본 매개변수 값  \n",
        "다음 예제에서는 기본 매개변수 값을 사용하는 방법을 보여줍니다.  \n",
        "인수 없이 함수를 호출하면 기본값이 사용됩니다."
      ],
      "metadata": {
        "id": "ovHDmeavlc3R"
      }
    },
    {
      "cell_type": "code",
      "source": [
        "def my_function(country =\"Norway\"):\n",
        "  print(\"I am from \" + country)\n",
        "\n",
        "my_function(\"Sweden\")\n",
        "my_function(\"India\")\n",
        "my_function()\n",
        "my_function(\"Brazil\")"
      ],
      "metadata": {
        "colab": {
          "base_uri": "https://localhost:8080/"
        },
        "id": "_pALYnfolYUB",
        "outputId": "19ac744f-d3fd-4f36-ae56-8cf108890ee3"
      },
      "execution_count": 16,
      "outputs": [
        {
          "output_type": "stream",
          "name": "stdout",
          "text": [
            "I am from Sweden\n",
            "I am from India\n",
            "I am from Norway\n",
            "I am from Brazil\n"
          ]
        }
      ]
    },
    {
      "cell_type": "markdown",
      "source": [
        "인수로 목록 전달하기  \n",
        "함수에 어떤 데이터 유형(문자열, 숫자, 목록, 사전 등)의 인수를 보낼 수 있으며, 이는 함수 내부에서 동일한 데이터 유형으로 처리됩니다.  \n",
        "\n",
        "\n",
        "예를 들어 인수로 목록을 보내면 함수에 도달할 때 여전히 목록이 됩니다."
      ],
      "metadata": {
        "id": "AObJCUtmmA_G"
      }
    },
    {
      "cell_type": "code",
      "source": [
        "def my_function(food):\n",
        "  for x in food:\n",
        "    print(x)\n",
        "fruits = [\"apple\", \"banana\", \"cherry\"]\n",
        "\n",
        "my_function(fruits)"
      ],
      "metadata": {
        "colab": {
          "base_uri": "https://localhost:8080/"
        },
        "id": "feGMgarwmIjE",
        "outputId": "e8a27e75-051e-4428-a343-f69e196380cb"
      },
      "execution_count": 17,
      "outputs": [
        {
          "output_type": "stream",
          "name": "stdout",
          "text": [
            "apple\n",
            "banana\n",
            "cherry\n"
          ]
        }
      ]
    },
    {
      "cell_type": "markdown",
      "source": [
        "반환 값  \n",
        "함수가 값을 반환하도록 하려면 return 다음 명령문을 사용하세요."
      ],
      "metadata": {
        "id": "sbQcnWmYmhuZ"
      }
    },
    {
      "cell_type": "code",
      "source": [
        "def my_function(x):\n",
        "  return 5 * x\n",
        "\n",
        "print(my_function(3))\n",
        "print(my_function(5))\n",
        "print(my_function(9))"
      ],
      "metadata": {
        "colab": {
          "base_uri": "https://localhost:8080/"
        },
        "id": "6XiEPuaOmgHN",
        "outputId": "0b76f7e6-00c8-420a-a59c-c6f8e9bd7de5"
      },
      "execution_count": 19,
      "outputs": [
        {
          "output_type": "stream",
          "name": "stdout",
          "text": [
            "15\n",
            "25\n",
            "45\n"
          ]
        }
      ]
    },
    {
      "cell_type": "markdown",
      "source": [
        "패스 진술  \n",
        "function정의는 비어 있을 수 없지만, 어떤 이유로든 function내용이 없는 정의가 있는 경우 pass오류를 방지하기 위해 명령문에 해당 내용을 넣으세요."
      ],
      "metadata": {
        "id": "cR5MfaV7m54O"
      }
    },
    {
      "cell_type": "code",
      "source": [
        "def my_function():\n",
        "  pass"
      ],
      "metadata": {
        "id": "2b6Xl4kZm1iH"
      },
      "execution_count": 20,
      "outputs": []
    },
    {
      "cell_type": "markdown",
      "source": [
        "위치 전용 인수  \n",
        "함수가 위치 인수만 가질 수 있도록, 또는 키워드 인수만 가질 수 있도록 지정할 수 있습니다.  \n",
        "함수가 위치 인수만 가질 수 있도록 지정하려면 , / 인수 뒤에 다음을 추가합니다."
      ],
      "metadata": {
        "id": "rpl60HGanArK"
      }
    },
    {
      "cell_type": "code",
      "source": [
        "def my_function(x, /):\n",
        "  print(x)\n",
        "\n",
        "my_function(3)"
      ],
      "metadata": {
        "colab": {
          "base_uri": "https://localhost:8080/"
        },
        "id": "8sFEQoOMm_hS",
        "outputId": "1c4182c2-9d90-416e-ee26-bd2a2d058e68"
      },
      "execution_count": 21,
      "outputs": [
        {
          "output_type": "stream",
          "name": "stdout",
          "text": [
            "3\n"
          ]
        }
      ]
    },
    {
      "cell_type": "markdown",
      "source": [
        "실제로 함수 , /가 위치 인수를 기대하더라도 키워드 인수를 사용할 수 있습니다."
      ],
      "metadata": {
        "id": "fpPDa4ETnPgB"
      }
    },
    {
      "cell_type": "code",
      "source": [
        "def my_function(x):\n",
        "  print(x)\n",
        "\n",
        "my_function(x=3)"
      ],
      "metadata": {
        "colab": {
          "base_uri": "https://localhost:8080/"
        },
        "id": "a-oCmBh0nNiR",
        "outputId": "b00baa8b-99f8-4bd2-d643-052a75c1a668"
      },
      "execution_count": 22,
      "outputs": [
        {
          "output_type": "stream",
          "name": "stdout",
          "text": [
            "3\n"
          ]
        }
      ]
    },
    {
      "cell_type": "markdown",
      "source": [
        "키워드 전용 인수  \n",
        "함수가 키워드 인수만 가질 수 있도록 지정하려면 인수 *, 앞에 다음을 추가합니다."
      ],
      "metadata": {
        "id": "AVZGlnxfnX0U"
      }
    },
    {
      "cell_type": "code",
      "source": [
        "def my_function(*, x):\n",
        "  print(x)\n",
        "\n",
        "my_function(x = 3)"
      ],
      "metadata": {
        "colab": {
          "base_uri": "https://localhost:8080/"
        },
        "id": "8TAhnVJmnaUD",
        "outputId": "a9f11dd6-f108-4d21-e82a-f1a33e5b8952"
      },
      "execution_count": 23,
      "outputs": [
        {
          "output_type": "stream",
          "name": "stdout",
          "text": [
            "3\n"
          ]
        }
      ]
    },
    {
      "cell_type": "markdown",
      "source": [
        "키워드 인수를 기대하는 함수 *, 일지라도 위치 인수를 사용할 수 있습니다."
      ],
      "metadata": {
        "id": "1xH1QnBMnlFH"
      }
    },
    {
      "cell_type": "code",
      "source": [
        "def my_function(x):\n",
        "  print(x)\n",
        "\n",
        "my_function(3)"
      ],
      "metadata": {
        "colab": {
          "base_uri": "https://localhost:8080/"
        },
        "id": "AyHjiMlqnjG0",
        "outputId": "be527290-c8d2-46f1-9317-94e6cf77e8ac"
      },
      "execution_count": 24,
      "outputs": [
        {
          "output_type": "stream",
          "name": "stdout",
          "text": [
            "3\n"
          ]
        }
      ]
    },
    {
      "cell_type": "markdown",
      "source": [
        "**재귀**  \n",
        "파이썬은 또한 함수 재귀를 허용하는데, 이는 정의된 함수가 자기 자신을 호출할 수 있다는 것을 의미합니다.  \n",
        "\n",
        "재귀는 일반적인 수학 및 프로그래밍 개념입니다. 즉, 함수가 자기 자신을 호출한다는 의미입니다. 이는 데이터를 반복하여 결과에 도달할 수 있다는 장점이 있습니다.  \n",
        "\n",
        "개발자는 재귀를 사용할 때 매우 주의해야 합니다. 종료되지 않는 함수나 과도한 메모리 또는 프로세서 성능을 사용하는 함수를 작성하게 될 가능성이 매우 높기 때문입니다. 하지만 올바르게 작성하면 재귀는 매우 효율적이고 수학적으로 우아한 프로그래밍 방식이 될 수 있습니다.  \n",
        "\n",
        "이 예제에서 tri_recursion() 은 자기 자신을 호출하도록 정의한 함수입니다(\"recurse\"). k 변수를 데이터로 사용하는데, 이 변수는 재귀가 발생할 때마다 감소( -1 )합니다. 재귀는 조건이 0보다 크지 않을 때(즉, 0이 될 때) 종료됩니다.  \n",
        "\n",
        "새로운 개발자에게는 이것이 정확히 어떻게 작동하는지 알아내는 데 시간이 걸릴 수 있으며, 알아내는 가장 좋은 방법은 테스트하고 수정하는 것입니다"
      ],
      "metadata": {
        "id": "BtA70Lqbnru-"
      }
    },
    {
      "cell_type": "code",
      "source": [
        "def tri_recursion(k):\n",
        "  if(k>0):\n",
        "    result = k+tri_recursion(k-1)\n",
        "    print(result)\n",
        "  else:\n",
        "    result = 0\n",
        "  return result\n",
        "\n",
        "print(\"Recursion Example Results:\")\n",
        "tri_recursion(6)"
      ],
      "metadata": {
        "colab": {
          "base_uri": "https://localhost:8080/"
        },
        "id": "ZeSHRgO-numA",
        "outputId": "e55c30b0-091a-4772-c5d2-6bd57c2dc515"
      },
      "execution_count": 25,
      "outputs": [
        {
          "output_type": "stream",
          "name": "stdout",
          "text": [
            "Recursion Example Results:\n",
            "1\n",
            "3\n",
            "6\n",
            "10\n",
            "15\n",
            "21\n"
          ]
        },
        {
          "output_type": "execute_result",
          "data": {
            "text/plain": [
              "21"
            ]
          },
          "metadata": {},
          "execution_count": 25
        }
      ]
    },
    {
      "cell_type": "markdown",
      "source": [
        "# **파이썬 클래스/객체**  \n",
        "파이썬은 객체 지향 프로그래밍 언어입니다.  \n",
        "클래스는 객체 생성자나 객체를 만드는 \"청사진\"과 같습니다."
      ],
      "metadata": {
        "id": "kvfcMMQTqd4I"
      }
    },
    {
      "cell_type": "markdown",
      "source": [
        "**Class 만들기**  \n",
        "클래스를 생성하려면 키워드를 사용하세요 class.\n",
        "예  \n",
        "x라는 이름의 속성을 갖는 MyClass라는 클래스를 만듭니다."
      ],
      "metadata": {
        "id": "mb7vg3JZquby"
      }
    },
    {
      "cell_type": "code",
      "source": [
        "class MyClass:\n",
        "  x = 5"
      ],
      "metadata": {
        "id": "-Hm4s4C6q8nW"
      },
      "execution_count": 26,
      "outputs": []
    },
    {
      "cell_type": "markdown",
      "source": [
        "**객체** **생성**  \n",
        "이제 MyClass라는 클래스를 사용하여 객체를 생성할 수 있습니다.  \n",
        "p1이라는 객체를 생성하고 x의 값을 출력합니다."
      ],
      "metadata": {
        "id": "o6kWIUQLrDeo"
      }
    },
    {
      "cell_type": "code",
      "source": [
        "p1 = MyClass()\n",
        "print(p1.x)"
      ],
      "metadata": {
        "colab": {
          "base_uri": "https://localhost:8080/"
        },
        "id": "MlJDbWO6rIl0",
        "outputId": "73a44254-8fc9-41a0-e66a-5181c6e450bc"
      },
      "execution_count": 27,
      "outputs": [
        {
          "output_type": "stream",
          "name": "stdout",
          "text": [
            "5\n"
          ]
        }
      ]
    },
    {
      "cell_type": "markdown",
      "source": [
        "# **__init__() 함수**  \n",
        "위의 예는 가장 단순한 형태의 클래스와 객체이며, 실제 응용 프로그램에서는 그다지 유용하지 않습니다.  \n",
        "\n",
        "클래스의 의미를 이해하려면 내장 __init__() 함수를 이해해야 합니다.  \n",
        "\n",
        "__init__()모든 클래스에는 클래스가 초기화될 때 항상 실행되는 함수가 있습니다 .  \n",
        "\n",
        "이 함수를 사용하면 __init__()객체 속성에 값을 할당하거나 객체를 생성할 때 필요한 다른 작업을 수행할 수 있습니다.  \n",
        "\n",
        "예  \n",
        "Person이라는 이름의 클래스를 만들고, __init__()함수를 사용하여 이름과 나이에 대한 값을 지정합니다.**굵은 텍스트**"
      ],
      "metadata": {
        "id": "ubks0MxarNX1"
      }
    },
    {
      "cell_type": "code",
      "source": [
        "class Person:\n",
        "  def __init__(self, name, age):\n",
        "    self.name = name\n",
        "    self.age = age\n",
        "\n",
        "p1 = Person(\"John\", 36)\n",
        "\n",
        "print(p1.name)\n",
        "print(p1.age)"
      ],
      "metadata": {
        "colab": {
          "base_uri": "https://localhost:8080/"
        },
        "id": "AzBH1g5DrVld",
        "outputId": "95882c12-bb75-4fd7-d1e4-ebb20807388b"
      },
      "execution_count": 28,
      "outputs": [
        {
          "output_type": "stream",
          "name": "stdout",
          "text": [
            "John\n",
            "36\n"
          ]
        }
      ]
    },
    {
      "cell_type": "markdown",
      "source": [
        "# **__str__() 함수**  \n",
        "이 __str__()함수는 클래스 객체가 문자열로 표현될 때 무엇이 ​​반환되어야 하는지 제어합니다.  \n",
        "\n",
        "함수 __str__()가 설정되지 않으면 객체의 문자열 표현이 반환됩니다.  \n",
        "**예**  \n",
        "함수가 없는 객체의 문자열 표현 __str__():"
      ],
      "metadata": {
        "id": "KOx-kVl_rdW1"
      }
    },
    {
      "cell_type": "code",
      "source": [
        "class Person():\n",
        "  def __init__(self, name, age):\n",
        "    self.name = name\n",
        "    self.age = age\n",
        "\n",
        "p1 = Person(\"John\", 36)\n",
        "\n",
        "print(p1)"
      ],
      "metadata": {
        "colab": {
          "base_uri": "https://localhost:8080/"
        },
        "id": "fU-EWE0WrmAJ",
        "outputId": "d5328a48-0d7b-4a62-d236-a6fa5d77e9dd"
      },
      "execution_count": 29,
      "outputs": [
        {
          "output_type": "stream",
          "name": "stdout",
          "text": [
            "<__main__.Person object at 0x7cb45614d390>\n"
          ]
        }
      ]
    },
    {
      "cell_type": "markdown",
      "source": [
        "**예**  \n",
        "다음 함수를 사용한 객체의 문자열 표현 __str__():"
      ],
      "metadata": {
        "id": "QV5b30der8K-"
      }
    },
    {
      "cell_type": "code",
      "source": [
        "class Person:\n",
        "  def __init__(self, name, age):\n",
        "    self.name = name\n",
        "    self.age = age\n",
        "\n",
        "  def __str__(self):\n",
        "    return f\"{self.name}({self.age})\"\n",
        "\n",
        "p1 = Person(\"John\", 36)\n",
        "\n",
        "print(p1)"
      ],
      "metadata": {
        "id": "jlqQkf4Jr2DT"
      },
      "execution_count": null,
      "outputs": []
    },
    {
      "cell_type": "markdown",
      "source": [
        "# **객체 메서드**  \n",
        "객체는 메서드를 포함할 수도 있습니다. 객체의 메서드는 객체에 속하는 함수입니다.  \n",
        "\n",
        "Person 클래스에 메서드를 만들어 보겠습니다.  \n",
        "\n",
        "**예**  \n",
        "\n",
        "인사말을 출력하는 함수를 삽입하고 p1 객체에서 실행합니다."
      ],
      "metadata": {
        "id": "QUi2u3sysAty"
      }
    },
    {
      "cell_type": "code",
      "source": [
        "class Person:\n",
        "  def __init__(self, name, age):\n",
        "    self.name = name\n",
        "    self.age = age\n",
        "\n",
        "  def myfunc(self):\n",
        "    print(\"Hello my name is \" + self.name)\n",
        "\n",
        "p1 = Person(\"John\", 36)\n",
        "p1.myfunc()"
      ],
      "metadata": {
        "colab": {
          "base_uri": "https://localhost:8080/"
        },
        "id": "W-UtSKg-sITh",
        "outputId": "e50f8142-7591-4f82-cd50-0d96529b37c6"
      },
      "execution_count": 31,
      "outputs": [
        {
          "output_type": "stream",
          "name": "stdout",
          "text": [
            "Hello my name is John\n"
          ]
        }
      ]
    },
    {
      "cell_type": "markdown",
      "source": [
        "참고: 매개 self변수는 클래스의 현재 인스턴스에 대한 참조이며, 클래스에 속한 변수에 액세스하는 데 사용됩니다."
      ],
      "metadata": {
        "id": "1xZ-Tl2qsKp3"
      }
    },
    {
      "cell_type": "markdown",
      "source": [
        "# **자기 매개변수**\n",
        "매개 self변수는 클래스의 현재 인스턴스에 대한 참조이며, 클래스에 속한 변수에 액세스하는 데 사용됩니다.  \n",
        "\n",
        "이름은 꼭 지을 필요는 없고 self, 원하는 대로 부르면 됩니다. 하지만 클래스의 모든 함수의 첫 번째 매개변수여야 합니다.  \n",
        "\n",
        "**예**  \n",
        "self 대신 mysillyobject 와 abc라는 단어를 사용하세요 :"
      ],
      "metadata": {
        "id": "PxzqnJ3msOQA"
      }
    },
    {
      "cell_type": "code",
      "source": [
        "class Person:\n",
        "  def __init__(mysillyobject, name, age):\n",
        "    mysillyobject.name = name\n",
        "    mysillyobject.age = age\n",
        "\n",
        "  def myfunc(abc):\n",
        "    print(\"Hello my name is \" + abc.name)\n",
        "\n",
        "p1 = Person(\"John\", 36)\n",
        "p1.myfunc()"
      ],
      "metadata": {
        "colab": {
          "base_uri": "https://localhost:8080/"
        },
        "id": "Qgj7rZiPsLmz",
        "outputId": "672bc82d-2c57-499d-ca50-a1503ea74955"
      },
      "execution_count": 30,
      "outputs": [
        {
          "output_type": "stream",
          "name": "stdout",
          "text": [
            "Hello my name is John\n"
          ]
        }
      ]
    },
    {
      "cell_type": "markdown",
      "source": [
        "# **개체 속성 수정**  \n",
        "다음과 같이 객체의 속성을 수정할 수 있습니다.  \n",
        "**예**  \n",
        "p1의 나이를 40으로 설정합니다."
      ],
      "metadata": {
        "id": "xyRYAsqAs6dS"
      }
    },
    {
      "cell_type": "code",
      "source": [
        "p1.age = 40"
      ],
      "metadata": {
        "id": "p7xydo6ks1bW"
      },
      "execution_count": null,
      "outputs": []
    },
    {
      "cell_type": "markdown",
      "source": [
        "# **개체 속성 삭제**  \n",
        "키워드를 사용하여 객체의 속성을 삭제할 수 있습니다 del.  \n",
        "**예**  \n",
        "p1 객체에서 age 속성을 삭제합니다."
      ],
      "metadata": {
        "id": "ADRlzgcitEUU"
      }
    },
    {
      "cell_type": "code",
      "source": [
        "del p1.age"
      ],
      "metadata": {
        "id": "D_Hc95bFtPzA"
      },
      "execution_count": 32,
      "outputs": []
    },
    {
      "cell_type": "markdown",
      "source": [
        "# **개체 삭제**  \n",
        "키워드를 사용하여 객체를 삭제할 수 있습니다 del.  \n",
        "**예**  \n",
        "p1 객체를 삭제합니다."
      ],
      "metadata": {
        "id": "lLXR-oI-tTRE"
      }
    },
    {
      "cell_type": "code",
      "source": [
        "del p1"
      ],
      "metadata": {
        "id": "aGVbotGptc0b"
      },
      "execution_count": 33,
      "outputs": []
    },
    {
      "cell_type": "markdown",
      "source": [
        "# **패스 진술**  \n",
        "class정의는 비어 있을 수 없지만, 어떤 이유로든 class내용이 없는 정의가 있는 경우 pass오류를 방지하기 위해 명령문에 해당 내용을 넣으세요.  \n",
        "**예**"
      ],
      "metadata": {
        "id": "m7esIgEKtgrh"
      }
    },
    {
      "cell_type": "code",
      "source": [
        "class Person:\n",
        "  pass"
      ],
      "metadata": {
        "id": "E82-ccPEtfPG"
      },
      "execution_count": 34,
      "outputs": []
    }
  ]
}